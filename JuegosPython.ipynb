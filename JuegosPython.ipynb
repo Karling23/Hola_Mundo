{
  "nbformat": 4,
  "nbformat_minor": 0,
  "metadata": {
    "colab": {
      "provenance": [],
      "authorship_tag": "ABX9TyM2P+MkJteyc+ZN0w5hNxN3",
      "include_colab_link": true
    },
    "kernelspec": {
      "name": "python3",
      "display_name": "Python 3"
    },
    "language_info": {
      "name": "python"
    }
  },
  "cells": [
    {
      "cell_type": "markdown",
      "metadata": {
        "id": "view-in-github",
        "colab_type": "text"
      },
      "source": [
        "<a href=\"https://colab.research.google.com/github/Karling23/Hola_Mundo/blob/main/JuegosPython.ipynb\" target=\"_parent\"><img src=\"https://colab.research.google.com/assets/colab-badge.svg\" alt=\"Open In Colab\"/></a>"
      ]
    },
    {
      "cell_type": "markdown",
      "source": [
        "#Juego de enfretamiento de dados\n",
        "---\n",
        "El programa se basa en un juego donde dos personas se enfretan para ver quien sale ganador generando un numero aleatorio simulando el lanzamiento de un dado.\n",
        "\n"
      ],
      "metadata": {
        "id": "VUL7jtzlAfMY"
      }
    },
    {
      "cell_type": "code",
      "source": [
        "import random\n",
        "\n",
        "print(\"Jugador 1\")\n",
        "jugador1 = input(\"Ingrese su nombre: \")\n",
        "print(\"Jufador 2\")\n",
        "jugador2 = input(\"Ingrese su nombre: \")\n",
        "input(f\"{jugador1}, precione enter para lanzar el dado.\")\n",
        "lanzamientoJugador1 = random.randint(1, 6)\n",
        "print(f\"{jugador1} sacaste {lanzamientoJugador1}\")\n",
        "input(f\"{jugador2}, precione enter para lanzar el dado.\")\n",
        "lanzamientoJugador2 = random.randint(1, 6)\n",
        "print(f\"{jugador2} sacaste {lanzamientoJugador2}\")\n",
        "\n",
        "if lanzamientoJugador1 > lanzamientoJugador2:\n",
        "    print(f\"El ganador es {jugador1}\")\n",
        "elif lanzamientoJugador1 < lanzamientoJugador2:\n",
        "    print(f\"El ganador es {jugador2}\")\n",
        "else:\n",
        "    print(f\"{jugador1} y {jugador2} empataron. \")"
      ],
      "metadata": {
        "colab": {
          "base_uri": "https://localhost:8080/"
        },
        "id": "EXMUCOCoAovL",
        "outputId": "f4537a71-a634-4b31-d0cd-e1713a36b845"
      },
      "execution_count": 3,
      "outputs": [
        {
          "output_type": "stream",
          "name": "stdout",
          "text": [
            "Jugador 1\n",
            "Ingrese su nombre: Miky\n",
            "Jufador 2\n",
            "Ingrese su nombre: Alan\n",
            "Miky, precione enter para lanzar el dado.\n",
            "Miky sacaste 3\n",
            "Alan, precione enter para lanzar el dado.\n",
            "Alan sacaste 6\n",
            "El ganador es Alan\n"
          ]
        }
      ]
    },
    {
      "cell_type": "markdown",
      "source": [
        "#Juedo de Piedra, Papel o Tijera\n",
        "---\n",
        "El programa consiste en que se jugara el clasico juego de piedra, papel o tijera. Se va a jugar contra la computadora donde a la computadora se le asignara una ocion alazar y el jugador puede elejir el mismo la opcion que mas prefiera."
      ],
      "metadata": {
        "id": "UHC7NQ2KDfmD"
      }
    },
    {
      "cell_type": "code",
      "source": [
        "import random\n",
        "\n",
        "print(\"Vas a jugar piedra, papel o tojiera contra el computador \\nPara PRIEDRA diga 1 \\nPara PAPEL diga 2 \\nPara TIJERA diga 3\")\n",
        "\n",
        "while True:\n",
        "    print(\"\")\n",
        "    miEleccion = int(input(\"Escoja una opcion: \"))\n",
        "    if miEleccion == 1:\n",
        "     print(\"\\nELEGISTE PIEDRA\")\n",
        "     break\n",
        "    elif miEleccion ==2:\n",
        "      print(\"\\nELEGISTE PAPEL\")\n",
        "      break\n",
        "    elif miEleccion ==3:\n",
        "      print(\"\\nELEGISTE TIJERA\")\n",
        "      break\n",
        "    else:\n",
        "      print(\"DEBE ELEGIR UN NUMERO ENTRE 1 Y 3\")\n",
        "\n",
        "eleccionCompu = random.randint(1, 3)\n",
        "if eleccionCompu == 1:\n",
        "    print(\"\\nLA COMPU ELIGIO PIEDRA\")\n",
        "elif eleccionCompu ==2:\n",
        "    print(\"\\nLA COMPU ELIGIO PAPEL\")\n",
        "elif eleccionCompu ==3:\n",
        "    print(\"\\nLA COMPU ELIGIO TIJERA\")\n",
        "\n",
        "print(\"\")\n",
        "if miEleccion == 1 and eleccionCompu == 1:\n",
        "   print(\"NADIE GANA\")\n",
        "elif miEleccion == 2 and eleccionCompu == 2:\n",
        "   print(\"NADIE GANA\")\n",
        "elif miEleccion == 3 and eleccionCompu == 3:\n",
        "   print(\"NADIE GANA\")\n",
        "\n",
        "elif miEleccion == 1 and eleccionCompu == 2:\n",
        "   print(\"TE GANO LA COMPU XD\")\n",
        "elif miEleccion == 2 and eleccionCompu == 3:\n",
        "   print(\"TE GANO LA COMPU XD\")\n",
        "elif miEleccion == 3 and eleccionCompu == 1:\n",
        "   print(\"TE GANO LA COMPU XD\")\n",
        "\n",
        "elif miEleccion == 1 and eleccionCompu == 3:\n",
        "   print(\"FELICIDADES LE GANASTE A LA COMPU\")\n",
        "elif miEleccion == 2 and eleccionCompu == 2:\n",
        "   print(\"FELICIDADES LE GANASTE A LA COMPU\")\n",
        "elif miEleccion == 3 and eleccionCompu == 1:\n",
        "   print(\"FELICIDADES LE GANASTE A LA COMPU\")"
      ],
      "metadata": {
        "colab": {
          "base_uri": "https://localhost:8080/"
        },
        "id": "9TMvx7MIBsYu",
        "outputId": "1fa4cd56-c71a-49de-8862-1f1600447f7d"
      },
      "execution_count": 4,
      "outputs": [
        {
          "output_type": "stream",
          "name": "stdout",
          "text": [
            "Vas a jugar piedra, papel o tojiera contra el computador \n",
            "Para PRIEDRA diga 1 \n",
            "Para PAPEL diga 2 \n",
            "Para TIJERA diga 3\n",
            "\n",
            "Escoja una opcion: 3\n",
            "\n",
            "ELEGISTE TIJERA\n",
            "\n",
            "LA COMPU ELIGIO TIJERA\n",
            "\n",
            "NADIE GANA\n"
          ]
        }
      ]
    }
  ]
}